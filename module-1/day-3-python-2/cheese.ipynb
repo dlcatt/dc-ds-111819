{
 "cells": [
  {
   "cell_type": "code",
   "execution_count": 3,
   "metadata": {},
   "outputs": [
    {
     "ename": "SyntaxError",
     "evalue": "invalid syntax (<ipython-input-3-79437b513648>, line 19)",
     "output_type": "error",
     "traceback": [
      "\u001b[0;36m  File \u001b[0;32m\"<ipython-input-3-79437b513648>\"\u001b[0;36m, line \u001b[0;32m19\u001b[0m\n\u001b[0;31m    print(f\"Ineed to buy: {item} which costs ${price\"})\u001b[0m\n\u001b[0m                                                     ^\u001b[0m\n\u001b[0;31mSyntaxError\u001b[0m\u001b[0;31m:\u001b[0m invalid syntax\n"
     ]
    }
   ],
   "source": [
    "i = 0\n",
    "for i in items:\n",
    "#     print(\"Ineed to buy:;\" + item + \"which costs $\" + str(cost[i]))\n",
    "#     i + = 1\n",
    "#     print(f\"I need to buy: {item} which costs ${cost[i]}\")\n",
    "\n",
    "    for i, item in enumerate(items):\n",
    "        print(f\"i={i}\")\n",
    "        \n",
    "        \n",
    "        i = 0\n",
    "for i in items:\n",
    "#     print(\"Ineed to buy:;\" + item + \"which costs $\" + str(cost[i]))\n",
    "#     i + = 1\n",
    "#     print(f\"I need to buy: {item} which costs ${cost[i]}\")\n",
    "\n",
    "     for item, price in zip (items, cost): \n",
    "#             This is item tuple chained together\n",
    "        print(f\"Ineed to buy: {item} which costs ${price}\")\n",
    "#         \n",
    "\n",
    "create a dictionary with 2 element \n",
    "dict(zip(items, cost))\n",
    "#   a = dict to reference again and again\n",
    "\n",
    "#   TOTALS\n",
    "              \n",
    "total_bill = 0\n",
    "    for item,\n",
    "              \n",
    "i = 1\n",
    "\n",
    "while i < 6\"\n",
    "        print (i)\n",
    "             i += 6\n",
    "\n",
    "for i in range(1,6):\n",
    "    print(i)\n",
    "\n",
    "# control Loop\n",
    "              \n",
    "\n",
    "              "
   ]
  },
  {
   "cell_type": "code",
   "execution_count": null,
   "metadata": {},
   "outputs": [],
   "source": [
    "]"
   ]
  }
 ],
 "metadata": {
  "kernelspec": {
   "display_name": "Python 3",
   "language": "python",
   "name": "python3"
  },
  "language_info": {
   "codemirror_mode": {
    "name": "ipython",
    "version": 3
   },
   "file_extension": ".py",
   "mimetype": "text/x-python",
   "name": "python",
   "nbconvert_exporter": "python",
   "pygments_lexer": "ipython3",
   "version": "3.7.1"
  }
 },
 "nbformat": 4,
 "nbformat_minor": 2
}
